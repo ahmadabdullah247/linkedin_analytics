{
 "cells": [
  {
   "cell_type": "code",
   "execution_count": 60,
   "id": "actual-dubai",
   "metadata": {},
   "outputs": [
    {
     "name": "stdout",
     "output_type": "stream",
     "text": [
      "Collecting tqdm\n",
      "  Downloading tqdm-4.58.0-py2.py3-none-any.whl (73 kB)\n",
      "\u001b[K     |████████████████████████████████| 73 kB 1.3 MB/s eta 0:00:011\n",
      "\u001b[?25hInstalling collected packages: tqdm\n",
      "Successfully installed tqdm-4.58.0\n"
     ]
    }
   ],
   "source": [
    " #!pip install tqdm"
   ]
  },
  {
   "cell_type": "code",
   "execution_count": 61,
   "id": "stainless-pattern",
   "metadata": {},
   "outputs": [],
   "source": [
    "# Import libraries\n",
    "import requests\n",
    "import urllib.request\n",
    "import time\n",
    "from bs4 import BeautifulSoup\n",
    "from tqdm import tqdm"
   ]
  },
  {
   "cell_type": "code",
   "execution_count": 56,
   "id": "diagnostic-messaging",
   "metadata": {},
   "outputs": [],
   "source": [
    "job_ids = []"
   ]
  },
  {
   "cell_type": "code",
   "execution_count": 50,
   "id": "roman-kidney",
   "metadata": {},
   "outputs": [],
   "source": [
    "def get_job_ids(total_pages=1):\n",
    "    for i in tqdm(range(total_pages)):\n",
    "        # Set the URL you want to webscrape from\n",
    "        url = 'https://www.linkedin.com/jobs/search?keywords=Software%20Engineer&location=Berlin%2C%20Berlin%2C%20Germany&geoId=&trk=homepage-jobseeker_jobs-search-bar_search-submit&redirect=false&position=1&pageNum={}'.format(i)\n",
    "        # Connect to the URL\n",
    "        response = requests.get(url)\n",
    "\n",
    "        # Parse HTML and save to BeautifulSoup object¶\n",
    "        soup = BeautifulSoup(response.text, \"html.parser\")\n",
    "        \n",
    "        ## extract job ids from the selected page\n",
    "        extract_job_ids(soup)"
   ]
  },
  {
   "cell_type": "code",
   "execution_count": 57,
   "id": "friendly-justice",
   "metadata": {},
   "outputs": [],
   "source": [
    "## gets job ids from one page at a time\n",
    "def extract_job_ids(soup):\n",
    "    jobs = soup.findAll(\"li\", attrs={\"class\":\"result-card job-result-card result-card--with-hover-state\"})\n",
    "    \n",
    "    for job in jobs:\n",
    "        job_ids.append(job[\"data-id\"])"
   ]
  },
  {
   "cell_type": "code",
   "execution_count": 58,
   "id": "proof-central",
   "metadata": {},
   "outputs": [],
   "source": [
    "get_job_ids(total_pages=100)"
   ]
  },
  {
   "cell_type": "code",
   "execution_count": 59,
   "id": "useful-aircraft",
   "metadata": {},
   "outputs": [
    {
     "data": {
      "text/plain": [
       "248"
      ]
     },
     "execution_count": 59,
     "metadata": {},
     "output_type": "execute_result"
    }
   ],
   "source": [
    "len(job_ids)"
   ]
  },
  {
   "cell_type": "code",
   "execution_count": 9,
   "id": "considered-assets",
   "metadata": {},
   "outputs": [],
   "source": [
    "for job_id in job_ids:\n",
    "    url = \"\"\"\n",
    "    https://www.linkedin.com/jobs/search?keywords=Software%2BEngineer&location=Berlin%2C%2BBerlin%2C%2BGermany&trk=homepage-jobseeker_jobs-search-bar_search-submit&currentJobId={}&position=2&pageNum=0\n",
    "    \"\"\".format(job_id)\n",
    "#     print(url)"
   ]
  },
  {
   "cell_type": "code",
   "execution_count": 10,
   "id": "numerical-diabetes",
   "metadata": {},
   "outputs": [],
   "source": [
    "\n",
    "# for job_id in job_ids:\n",
    "#     url = \"\"\"\n",
    "#     https://www.linkedin.com/jobs/search?keywords=Software%2BEngineer\n",
    "#     &location=Berlin%2C%2BBerlin%2C%2BGermany\n",
    "#     &trk=homepage-jobseeker_jobs-search-bar_search-submit\n",
    "#     &currentJobId={}\n",
    "#     &position=2\n",
    "#     &pageNum=0\n",
    "#     \"\"\".format(job_id)\n",
    "#     # Connect to the URL\n",
    "#     response = requests.get(url)\n",
    "\n",
    "#     # Parse HTML and save to BeautifulSoup object¶\n",
    "#     soup = BeautifulSoup(response.text, \"html.parser\")\n",
    "#     print(soup)"
   ]
  },
  {
   "cell_type": "markdown",
   "id": "detailed-broadcasting",
   "metadata": {},
   "source": [
    "# FOUND THAT LINKEDIN HAS THIS JOBS-GUEST API ;)"
   ]
  },
  {
   "cell_type": "code",
   "execution_count": 11,
   "id": "effective-intro",
   "metadata": {},
   "outputs": [],
   "source": [
    "\n",
    "\n",
    "url = \"https://www.linkedin.com/jobs-guest/jobs/api/jobPosting/2428456471\"\n",
    "# Connect to the URL\n",
    "response = requests.get(url)\n",
    "\n",
    "# Parse HTML and save to BeautifulSoup object¶\n",
    "soup = BeautifulSoup(response.text, \"html.parser\")"
   ]
  },
  {
   "cell_type": "code",
   "execution_count": 12,
   "id": "advisory-persian",
   "metadata": {},
   "outputs": [
    {
     "data": {
      "text/plain": [
       "'DescriptionSoftware Development Engineer Graduate - 2021 (Berlin) f/m/dDo you want to solve business challenges through innovative technology? Do you enjoy working on cutting-edge, scalable services technology in a team environment? Do you like working on industry-defining projects that move the needle?At Amazon, we hire the best minds in technology to innovate and build on behalf of our customers. The intense focus we have on our customers is why we are one of the world’s most beloved brands – customer obsession is part of our company DNA. Our Software Development Engineers (SDEs) use cutting-edge technology to solve complex problems and get to see the impact of their work first-hand.The challenges SDEs solve for at Amazon are big and impact millions of customers, sellers, and products around the world. We’re looking for individuals who are excited by the idea of creating new products, features, and services from scratch while managing ambiguity and the pace of a company whose ship cycles are measured in weeks, not years.If this is you, come chart your own path at AmazonTo qualify, applicants should have earned a Bachelor’s or Master’s degree within the last 6 months or be on track to earn their Bachelor’s or Master’s degree prior to the role start date.Key Job Responsibilities Collaborate with experienced cross-disciplinary Amazonians to conceive, design, and bring to market innovative products and services. Design and build innovative technologies in a large distributed computing environment and help lead fundamental changes in the industry. Create solutions to run predictions on distributed systems with exposure to innovative technologies at incredible scale and speed. Build distributed storage, index, and query systems that are scalable, fault-tolerant, low cost, and easy to manage/use. Ability to design and code the right solutions starting with broadly defined problems. Work in an agile environment to deliver high quality software.Applications are reviewed on a rolling basis. For an update on your status, or to confirm your application was submitted successfully, please login to your candidate portal. Please note that Amazon works with a high volume of applicants. We appreciate your patience as we review applications for future Amazonians!Basic Qualifications Graduated less than 6 months ago or about to complete a Bachelor’s or Master’s Degree in Computer Science, Computer Engineering, or related fields at time of application Although no specific programming language is required – you should be familiar with the syntax of languages such as Java, C/C++ or Python Knowledge of Computer Science fundamentals such as object-oriented design, algorithm design, data structures, problem solving and complexity analysisPreferred Qualifications Previous technical internship(s) Experience with distributed, multi-tiered systems, algorithms, and relational databases Experience in optimization mathematics such as linear programming and nonlinear optimization Ability to effectively articulate technical challenges and solutions Adept at handling ambiguous or undefined problems as well as ability to think abstractlyAmazon is an equal opportunities employer. We believe passionately that employing a diverse workforce is central to our success. We make recruiting decisions based on your experience and skills. We value your passion to discover, invent, simplify and build. Protecting your privacy and the security of your data is a longstanding top priority for Amazon. Please consult our Privacy Notice to know more about how we collect, use and transfer the personal data of our candidates.EU Student Programs TeamCompany - AWS EMEA SARL (Germany Branch)Job ID: A1271472Show moreShow lessSeniority levelEntry levelEmployment typeFull-timeJob functionInformation TechnologyConsultingEngineeringIndustriesComputer SoftwareInformation Technology and ServicesInternet'"
      ]
     },
     "execution_count": 12,
     "metadata": {},
     "output_type": "execute_result"
    }
   ],
   "source": [
    "soup.find(\"section\",attrs={\"class\":\"description\"}).text"
   ]
  },
  {
   "cell_type": "markdown",
   "id": "korean-mediterranean",
   "metadata": {},
   "source": [
    "## for lazy loading \n",
    "https://stackoverflow.com/questions/40777864/retrieving-all-information-from-page-beautifulsoup"
   ]
  },
  {
   "cell_type": "code",
   "execution_count": 14,
   "id": "sufficient-transfer",
   "metadata": {},
   "outputs": [
    {
     "name": "stdout",
     "output_type": "stream",
     "text": [
      "2021-02-28 15:31:26.419220\n",
      "2021-02-14 15:31:26.419172\n"
     ]
    }
   ],
   "source": [
    "from datetime import datetime, timedelta\n",
    "\n",
    "N = 2\n",
    "\n",
    "date_N_days_ago = datetime.now() - timedelta(weeks=N)\n",
    "\n",
    "print(datetime.now())\n",
    "print(date_N_days_ago)"
   ]
  }
 ],
 "metadata": {
  "kernelspec": {
   "display_name": "Python 3",
   "language": "python",
   "name": "python3"
  },
  "language_info": {
   "codemirror_mode": {
    "name": "ipython",
    "version": 3
   },
   "file_extension": ".py",
   "mimetype": "text/x-python",
   "name": "python",
   "nbconvert_exporter": "python",
   "pygments_lexer": "ipython3",
   "version": "3.7.3"
  }
 },
 "nbformat": 4,
 "nbformat_minor": 5
}
