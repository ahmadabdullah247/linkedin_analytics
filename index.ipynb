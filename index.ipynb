{
 "cells": [
  {
   "cell_type": "code",
   "execution_count": 1,
   "metadata": {},
   "outputs": [
    {
     "name": "stdout",
     "output_type": "stream",
     "text": [
      "Requirement already satisfied: pyyaml in /Users/shahrukh/anaconda3/lib/python3.7/site-packages (5.3.1)\r\n"
     ]
    }
   ],
   "source": [
    "# !pip install pyyaml"
   ]
  },
  {
   "cell_type": "code",
   "execution_count": 73,
   "metadata": {},
   "outputs": [],
   "source": [
    "# Import libraries\n",
    "import requests\n",
    "import urllib.request\n",
    "import time\n",
    "from bs4 import BeautifulSoup\n",
    "from tqdm import tqdm\n",
    "import time\n",
    "import pandas as pd"
   ]
  },
  {
   "cell_type": "code",
   "execution_count": 63,
   "metadata": {},
   "outputs": [],
   "source": [
    "job_ids = []"
   ]
  },
  {
   "cell_type": "code",
   "execution_count": 64,
   "metadata": {},
   "outputs": [],
   "source": [
    "def get_job_ids(total_pages=1):\n",
    "    for i in tqdm(range(total_pages)):\n",
    "        # Set the URL you want to webscrape from\n",
    "        url = 'https://www.linkedin.com/jobs/search?keywords=Software%20Engineer&location=Berlin%2C%20Berlin%2C%20Germany&geoId=&trk=homepage-jobseeker_jobs-search-bar_search-submit&redirect=false&position=1&pageNum={}'.format(i)\n",
    "        # Connect to the URL\n",
    "        response = requests.get(url)\n",
    "\n",
    "        # Parse HTML and save to BeautifulSoup object¶\n",
    "        soup = BeautifulSoup(response.text, \"html.parser\")\n",
    "        \n",
    "        ## extract job ids from the selected page\n",
    "        extract_job_ids(soup)"
   ]
  },
  {
   "cell_type": "code",
   "execution_count": 65,
   "metadata": {},
   "outputs": [],
   "source": [
    "## gets job ids from one page at a time\n",
    "def extract_job_ids(soup):\n",
    "    jobs = soup.findAll(\"li\", attrs={\"class\":\"result-card job-result-card result-card--with-hover-state\"})\n",
    "    \n",
    "    for job in jobs:\n",
    "        job_ids.append(job[\"data-id\"])"
   ]
  },
  {
   "cell_type": "code",
   "execution_count": 66,
   "metadata": {},
   "outputs": [
    {
     "name": "stderr",
     "output_type": "stream",
     "text": [
      "100%|██████████| 100/100 [01:32<00:00,  1.08it/s]\n"
     ]
    }
   ],
   "source": [
    "get_job_ids(total_pages=100)"
   ]
  },
  {
   "cell_type": "code",
   "execution_count": 67,
   "metadata": {},
   "outputs": [
    {
     "data": {
      "text/plain": [
       "2474"
      ]
     },
     "execution_count": 67,
     "metadata": {},
     "output_type": "execute_result"
    }
   ],
   "source": [
    "len(job_ids)"
   ]
  },
  {
   "cell_type": "code",
   "execution_count": 9,
   "metadata": {},
   "outputs": [],
   "source": [
    "for job_id in job_ids:\n",
    "    url = \"\"\"\n",
    "    https://www.linkedin.com/jobs/search?keywords=Software%2BEngineer&location=Berlin%2C%2BBerlin%2C%2BGermany&trk=homepage-jobseeker_jobs-search-bar_search-submit&currentJobId={}&position=2&pageNum=0\n",
    "    \"\"\".format(job_id)\n",
    "#     print(url)"
   ]
  },
  {
   "cell_type": "code",
   "execution_count": 10,
   "metadata": {},
   "outputs": [],
   "source": [
    "\n",
    "# for job_id in job_ids:\n",
    "#     url = \"\"\"\n",
    "#     https://www.linkedin.com/jobs/search?keywords=Software%2BEngineer\n",
    "#     &location=Berlin%2C%2BBerlin%2C%2BGermany\n",
    "#     &trk=homepage-jobseeker_jobs-search-bar_search-submit\n",
    "#     &currentJobId={}\n",
    "#     &position=2\n",
    "#     &pageNum=0\n",
    "#     \"\"\".format(job_id)\n",
    "#     # Connect to the URL\n",
    "#     response = requests.get(url)\n",
    "\n",
    "#     # Parse HTML and save to BeautifulSoup object¶\n",
    "#     soup = BeautifulSoup(response.text, \"html.parser\")\n",
    "#     print(soup)"
   ]
  },
  {
   "cell_type": "markdown",
   "metadata": {},
   "source": [
    "## wrote some functions for scraping and also we need to keep the sleep function so that\n",
    "## server doesn't detect too many requests"
   ]
  },
  {
   "cell_type": "code",
   "execution_count": 79,
   "metadata": {},
   "outputs": [],
   "source": [
    "def get_job_data(job_id):\n",
    "    url = \"https://www.linkedin.com/jobs-guest/jobs/api/jobPosting/{}\".format(job_id)\n",
    "    # Connect to the URL\n",
    "    response = requests.get(url)\n",
    "\n",
    "    # Parse HTML and save to BeautifulSoup object¶\n",
    "    soup = BeautifulSoup(response.text, \"html.parser\")\n",
    "    ## find jd section\n",
    "    return soup.find(\"section\",attrs={\"class\":\"description\"}).text"
   ]
  },
  {
   "cell_type": "code",
   "execution_count": 80,
   "metadata": {},
   "outputs": [
    {
     "name": "stderr",
     "output_type": "stream",
     "text": [
      "100%|██████████| 5/5 [00:14<00:00,  2.93s/it]\n"
     ]
    }
   ],
   "source": [
    "job_descriptions = []\n",
    "for job_id in tqdm(job_ids[:5]):\n",
    "    jd = get_job_data(job_id)\n",
    "    job_descriptions.append(jd)\n",
    "    time.sleep(2.4)"
   ]
  },
  {
   "cell_type": "code",
   "execution_count": 81,
   "metadata": {},
   "outputs": [
    {
     "data": {
      "text/html": [
       "<div>\n",
       "<style scoped>\n",
       "    .dataframe tbody tr th:only-of-type {\n",
       "        vertical-align: middle;\n",
       "    }\n",
       "\n",
       "    .dataframe tbody tr th {\n",
       "        vertical-align: top;\n",
       "    }\n",
       "\n",
       "    .dataframe thead th {\n",
       "        text-align: right;\n",
       "    }\n",
       "</style>\n",
       "<table border=\"1\" class=\"dataframe\">\n",
       "  <thead>\n",
       "    <tr style=\"text-align: right;\">\n",
       "      <th></th>\n",
       "      <th>description</th>\n",
       "    </tr>\n",
       "  </thead>\n",
       "  <tbody>\n",
       "    <tr>\n",
       "      <th>0</th>\n",
       "      <td>DescriptionSoftware Development Engineer Gradu...</td>\n",
       "    </tr>\n",
       "    <tr>\n",
       "      <th>1</th>\n",
       "      <td>Rust / C++ Software Engineer Do you have aspir...</td>\n",
       "    </tr>\n",
       "    <tr>\n",
       "      <th>2</th>\n",
       "      <td>At a Glance:On-Running, the most exciting and ...</td>\n",
       "    </tr>\n",
       "    <tr>\n",
       "      <th>3</th>\n",
       "      <td>DescriptionCome join an experienced team of en...</td>\n",
       "    </tr>\n",
       "    <tr>\n",
       "      <th>4</th>\n",
       "      <td>About The OpportunityWe are seeking a talented...</td>\n",
       "    </tr>\n",
       "  </tbody>\n",
       "</table>\n",
       "</div>"
      ],
      "text/plain": [
       "                                         description\n",
       "0  DescriptionSoftware Development Engineer Gradu...\n",
       "1  Rust / C++ Software Engineer Do you have aspir...\n",
       "2  At a Glance:On-Running, the most exciting and ...\n",
       "3  DescriptionCome join an experienced team of en...\n",
       "4  About The OpportunityWe are seeking a talented..."
      ]
     },
     "execution_count": 81,
     "metadata": {},
     "output_type": "execute_result"
    }
   ],
   "source": [
    "pd.DataFrame(job_descriptions, columns=['description'])"
   ]
  },
  {
   "cell_type": "markdown",
   "metadata": {},
   "source": [
    "## for lazy loading \n",
    "https://stackoverflow.com/questions/40777864/retrieving-all-information-from-page-beautifulsoup"
   ]
  },
  {
   "cell_type": "code",
   "execution_count": 14,
   "metadata": {},
   "outputs": [
    {
     "name": "stdout",
     "output_type": "stream",
     "text": [
      "2021-02-28 15:31:26.419220\n",
      "2021-02-14 15:31:26.419172\n"
     ]
    }
   ],
   "source": [
    "## for converting date string to timestamp\n",
    "\n",
    "from datetime import datetime, timedelta\n",
    "\n",
    "N = 2\n",
    "\n",
    "date_N_days_ago = datetime.now() - timedelta(weeks=N)\n",
    "\n",
    "print(datetime.now())\n",
    "print(date_N_days_ago)"
   ]
  }
 ],
 "metadata": {
  "kernelspec": {
   "display_name": "Python 3",
   "language": "python",
   "name": "python3"
  },
  "language_info": {
   "codemirror_mode": {
    "name": "ipython",
    "version": 3
   },
   "file_extension": ".py",
   "mimetype": "text/x-python",
   "name": "python",
   "nbconvert_exporter": "python",
   "pygments_lexer": "ipython3",
   "version": "3.7.3"
  }
 },
 "nbformat": 4,
 "nbformat_minor": 5
}
