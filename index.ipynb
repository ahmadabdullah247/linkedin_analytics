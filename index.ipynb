{
 "cells": [
  {
   "cell_type": "code",
   "execution_count": 1,
   "id": "actual-dubai",
   "metadata": {},
   "outputs": [],
   "source": [
    "# !pip install bs4"
   ]
  },
  {
   "cell_type": "code",
   "execution_count": 3,
   "id": "stainless-pattern",
   "metadata": {},
   "outputs": [],
   "source": [
    "# Import libraries\n",
    "import requests\n",
    "import urllib.request\n",
    "import time\n",
    "from bs4 import BeautifulSoup"
   ]
  },
  {
   "cell_type": "code",
   "execution_count": 4,
   "id": "diagnostic-messaging",
   "metadata": {},
   "outputs": [],
   "source": [
    "# Set the URL you want to webscrape from\n",
    "url = 'https://www.linkedin.com/jobs/search?keywords=Software%20Engineer&location=Berlin%2C%20Berlin%2C%20Germany&geoId=&trk=homepage-jobseeker_jobs-search-bar_search-submit&redirect=false&position=1&pageNum=0'"
   ]
  },
  {
   "cell_type": "code",
   "execution_count": 5,
   "id": "roman-kidney",
   "metadata": {},
   "outputs": [],
   "source": [
    "# Connect to the URL\n",
    "response = requests.get(url)\n",
    "\n",
    "# Parse HTML and save to BeautifulSoup object¶\n",
    "soup = BeautifulSoup(response.text, \"html.parser\")"
   ]
  },
  {
   "cell_type": "code",
   "execution_count": 6,
   "id": "proof-central",
   "metadata": {},
   "outputs": [],
   "source": [
    "jobs = soup.findAll(\"li\", attrs={\"class\":\"result-card job-result-card result-card--with-hover-state\"})\n",
    "job_ids = [job[\"data-id\"] for job in jobs]"
   ]
  },
  {
   "cell_type": "code",
   "execution_count": 9,
   "id": "considered-assets",
   "metadata": {},
   "outputs": [],
   "source": [
    "for job_id in job_ids:\n",
    "    url = \"\"\"\n",
    "    https://www.linkedin.com/jobs/search?keywords=Software%2BEngineer&location=Berlin%2C%2BBerlin%2C%2BGermany&trk=homepage-jobseeker_jobs-search-bar_search-submit&currentJobId={}&position=2&pageNum=0\n",
    "    \"\"\".format(job_id)\n",
    "#     print(url)"
   ]
  },
  {
   "cell_type": "code",
   "execution_count": 10,
   "id": "numerical-diabetes",
   "metadata": {},
   "outputs": [],
   "source": [
    "\n",
    "# for job_id in job_ids:\n",
    "#     url = \"\"\"\n",
    "#     https://www.linkedin.com/jobs/search?keywords=Software%2BEngineer\n",
    "#     &location=Berlin%2C%2BBerlin%2C%2BGermany\n",
    "#     &trk=homepage-jobseeker_jobs-search-bar_search-submit\n",
    "#     &currentJobId={}\n",
    "#     &position=2\n",
    "#     &pageNum=0\n",
    "#     \"\"\".format(job_id)\n",
    "#     # Connect to the URL\n",
    "#     response = requests.get(url)\n",
    "\n",
    "#     # Parse HTML and save to BeautifulSoup object¶\n",
    "#     soup = BeautifulSoup(response.text, \"html.parser\")\n",
    "#     print(soup)"
   ]
  },
  {
   "cell_type": "code",
   "execution_count": 22,
   "id": "effective-intro",
   "metadata": {},
   "outputs": [],
   "source": [
    "url = \"https://www.linkedin.com/jobs/search?keywords=Software%2BEngineer&location=Berlin%2C%2BBerlin%2C%2BGermany&trk=homepage-jobseeker_jobs-search-bar_search-submit&currentJobId=2427480242&position=2&pageNum=0\"\n",
    "# Connect to the URL\n",
    "response = requests.get(url)\n",
    "\n",
    "# Parse HTML and save to BeautifulSoup object¶\n",
    "soup = BeautifulSoup(response.text, \"html.parser\")"
   ]
  },
  {
   "cell_type": "code",
   "execution_count": 23,
   "id": "advisory-persian",
   "metadata": {},
   "outputs": [
    {
     "data": {
      "text/plain": [
       "[]"
      ]
     },
     "execution_count": 23,
     "metadata": {},
     "output_type": "execute_result"
    }
   ],
   "source": [
    "soup.findAll(\"div\",attrs={\"class\":\"topcard__content\"})"
   ]
  },
  {
   "cell_type": "code",
   "execution_count": 25,
   "id": "central-ebony",
   "metadata": {},
   "outputs": [],
   "source": [
    "# soup"
   ]
  },
  {
   "cell_type": "markdown",
   "id": "korean-mediterranean",
   "metadata": {},
   "source": [
    "## for lazy loading \n",
    "https://stackoverflow.com/questions/40777864/retrieving-all-information-from-page-beautifulsoup"
   ]
  },
  {
   "cell_type": "code",
   "execution_count": null,
   "id": "sufficient-transfer",
   "metadata": {},
   "outputs": [],
   "source": []
  }
 ],
 "metadata": {
  "kernelspec": {
   "display_name": "Python 3",
   "language": "python",
   "name": "python3"
  },
  "language_info": {
   "codemirror_mode": {
    "name": "ipython",
    "version": 3
   },
   "file_extension": ".py",
   "mimetype": "text/x-python",
   "name": "python",
   "nbconvert_exporter": "python",
   "pygments_lexer": "ipython3",
   "version": "3.8.2"
  }
 },
 "nbformat": 4,
 "nbformat_minor": 5
}
