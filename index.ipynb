{
 "cells": [
  {
   "cell_type": "code",
   "execution_count": 6,
   "metadata": {},
   "outputs": [],
   "source": [
    "# !which python\n",
    "# !pip install requests beautifulsoup4 pandas tqdm"
   ]
  },
  {
   "cell_type": "code",
   "execution_count": 1,
   "metadata": {},
   "outputs": [],
   "source": [
    "# Import libraries\n",
    "import requests\n",
    "import urllib.request\n",
    "import time\n",
    "from bs4 import BeautifulSoup\n",
    "from tqdm import tqdm\n",
    "import time\n",
    "import pandas as pd\n",
    "from LIB.UTILS.log import get_logger\n",
    "log = get_logger('index')"
   ]
  },
  {
   "cell_type": "code",
   "execution_count": 4,
   "metadata": {},
   "outputs": [],
   "source": [
    "job_ids = []\n",
    "def get_job_ids(total_pages=1):\n",
    "    for i in tqdm(range(total_pages)):\n",
    "        # Set the URL you want to webscrape from\n",
    "        url = 'https://www.linkedin.com/jobs/search?keywords=Software%20Engineer&location=Berlin%2C%20Berlin%2C%20Germany&geoId=&trk=homepage-jobseeker_jobs-search-bar_search-submit&redirect=false&position=1&pageNum={}'.format(i)\n",
    "        # Connect to the URL\n",
    "        response = requests.get(url)\n",
    "\n",
    "        # Parse HTML and save to BeautifulSoup object¶\n",
    "        soup = BeautifulSoup(response.text, \"html.parser\")\n",
    "        \n",
    "        ## extract job ids from the selected page\n",
    "        extract_job_ids(soup)\n",
    "\n",
    "## gets job ids from one page at a time\n",
    "def extract_job_ids(soup):\n",
    "    jobs = soup.findAll(\"li\", attrs={\"class\":\"result-card job-result-card result-card--with-hover-state\"})\n",
    "    \n",
    "    for job in jobs:\n",
    "        job_ids.append(job[\"data-id\"])"
   ]
  },
  {
   "cell_type": "code",
   "execution_count": 5,
   "metadata": {},
   "outputs": [
    {
     "name": "stderr",
     "output_type": "stream",
     "text": [
      "100%|██████████| 10/10 [00:09<00:00,  1.01it/s]\n"
     ]
    }
   ],
   "source": [
    "get_job_ids(total_pages=10)"
   ]
  },
  {
   "cell_type": "code",
   "execution_count": 6,
   "metadata": {},
   "outputs": [],
   "source": [
    "def get_job_data(job_id):\n",
    "    url = \"https://www.linkedin.com/jobs-guest/jobs/api/jobPosting/{}\".format(job_id)\n",
    "    # Connect to the URL\n",
    "    response = requests.get(url)\n",
    "\n",
    "    # Parse HTML and save to BeautifulSoup object¶\n",
    "    soup = BeautifulSoup(response.text, \"html.parser\")\n",
    "    ## find jd section\n",
    "    return soup.find(\"section\",attrs={\"class\":\"description\"}).text"
   ]
  },
  {
   "cell_type": "code",
   "execution_count": 7,
   "metadata": {},
   "outputs": [
    {
     "name": "stderr",
     "output_type": "stream",
     "text": [
      "100%|██████████| 5/5 [00:14<00:00,  2.81s/it]\n"
     ]
    }
   ],
   "source": [
    "job_descriptions = []\n",
    "for job_id in tqdm(job_ids[:5]):\n",
    "    jd = get_job_data(job_id)\n",
    "    job_descriptions.append(jd)\n",
    "    time.sleep(2.4)"
   ]
  },
  {
   "cell_type": "code",
   "execution_count": 8,
   "metadata": {},
   "outputs": [
    {
     "data": {
      "text/html": [
       "<div>\n",
       "<style scoped>\n",
       "    .dataframe tbody tr th:only-of-type {\n",
       "        vertical-align: middle;\n",
       "    }\n",
       "\n",
       "    .dataframe tbody tr th {\n",
       "        vertical-align: top;\n",
       "    }\n",
       "\n",
       "    .dataframe thead th {\n",
       "        text-align: right;\n",
       "    }\n",
       "</style>\n",
       "<table border=\"1\" class=\"dataframe\">\n",
       "  <thead>\n",
       "    <tr style=\"text-align: right;\">\n",
       "      <th></th>\n",
       "      <th>description</th>\n",
       "    </tr>\n",
       "  </thead>\n",
       "  <tbody>\n",
       "    <tr>\n",
       "      <th>0</th>\n",
       "      <td>About Us Formed in 2014, Tendermint is the cre...</td>\n",
       "    </tr>\n",
       "    <tr>\n",
       "      <th>1</th>\n",
       "      <td>DescriptionCome join an experienced team of en...</td>\n",
       "    </tr>\n",
       "    <tr>\n",
       "      <th>2</th>\n",
       "      <td>***This is for Amsterdam, Netherlands. Relocat...</td>\n",
       "    </tr>\n",
       "    <tr>\n",
       "      <th>3</th>\n",
       "      <td>Facebook's mission is to give people the power...</td>\n",
       "    </tr>\n",
       "    <tr>\n",
       "      <th>4</th>\n",
       "      <td>At Autovision (Permanent), in Berlin, GermanyE...</td>\n",
       "    </tr>\n",
       "  </tbody>\n",
       "</table>\n",
       "</div>"
      ],
      "text/plain": [
       "                                         description\n",
       "0  About Us Formed in 2014, Tendermint is the cre...\n",
       "1  DescriptionCome join an experienced team of en...\n",
       "2  ***This is for Amsterdam, Netherlands. Relocat...\n",
       "3  Facebook's mission is to give people the power...\n",
       "4  At Autovision (Permanent), in Berlin, GermanyE..."
      ]
     },
     "execution_count": 8,
     "metadata": {},
     "output_type": "execute_result"
    }
   ],
   "source": [
    "pd.DataFrame(job_descriptions, columns=['description'])"
   ]
  },
  {
   "cell_type": "code",
   "execution_count": null,
   "metadata": {},
   "outputs": [],
   "source": []
  }
 ],
 "metadata": {
  "kernelspec": {
   "display_name": "Python 3",
   "language": "python",
   "name": "python3"
  },
  "language_info": {
   "codemirror_mode": {
    "name": "ipython",
    "version": 3
   },
   "file_extension": ".py",
   "mimetype": "text/x-python",
   "name": "python",
   "nbconvert_exporter": "python",
   "pygments_lexer": "ipython3",
   "version": "3.8.2"
  }
 },
 "nbformat": 4,
 "nbformat_minor": 4
}
